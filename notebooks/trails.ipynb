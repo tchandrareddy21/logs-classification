{
 "cells": [
  {
   "cell_type": "code",
   "id": "initial_id",
   "metadata": {
    "collapsed": true,
    "ExecuteTime": {
     "end_time": "2025-02-16T10:00:04.359237Z",
     "start_time": "2025-02-16T10:00:04.355132Z"
    }
   },
   "source": "import pandas as pd",
   "outputs": [],
   "execution_count": 6
  },
  {
   "metadata": {
    "ExecuteTime": {
     "end_time": "2025-02-16T10:00:05.103590Z",
     "start_time": "2025-02-16T10:00:05.084503Z"
    }
   },
   "cell_type": "code",
   "source": [
    "df = pd.read_csv(\"../dataset/logs.csv\")\n",
    "df.head()"
   ],
   "id": "52dbeb1dd91a8563",
   "outputs": [
    {
     "data": {
      "text/plain": [
       "          timestamp           source  \\\n",
       "0   27-06-2025 7.20        ModernCRM   \n",
       "1   1/14/2025 23:07        ModernCRM   \n",
       "2    1/17/2025 1:29  AnalyticsEngine   \n",
       "3   12-07-2025 0.24         ModernHR   \n",
       "4  02-06-2025 18.25    BillingSystem   \n",
       "\n",
       "                                         log_message    target_label  \n",
       "0  nova.osapi_compute.wsgi.server [req-b9718cd8-f...     HTTP Status  \n",
       "1     Email service experiencing issues with sending  Critical Error  \n",
       "2          Unauthorized access to data was attempted  Security Alert  \n",
       "3  nova.osapi_compute.wsgi.server [req-4895c258-b...     HTTP Status  \n",
       "4  nova.osapi_compute.wsgi.server [req-ee8bc8ba-9...     HTTP Status  "
      ],
      "text/html": [
       "<div>\n",
       "<style scoped>\n",
       "    .dataframe tbody tr th:only-of-type {\n",
       "        vertical-align: middle;\n",
       "    }\n",
       "\n",
       "    .dataframe tbody tr th {\n",
       "        vertical-align: top;\n",
       "    }\n",
       "\n",
       "    .dataframe thead th {\n",
       "        text-align: right;\n",
       "    }\n",
       "</style>\n",
       "<table border=\"1\" class=\"dataframe\">\n",
       "  <thead>\n",
       "    <tr style=\"text-align: right;\">\n",
       "      <th></th>\n",
       "      <th>timestamp</th>\n",
       "      <th>source</th>\n",
       "      <th>log_message</th>\n",
       "      <th>target_label</th>\n",
       "    </tr>\n",
       "  </thead>\n",
       "  <tbody>\n",
       "    <tr>\n",
       "      <th>0</th>\n",
       "      <td>27-06-2025 7.20</td>\n",
       "      <td>ModernCRM</td>\n",
       "      <td>nova.osapi_compute.wsgi.server [req-b9718cd8-f...</td>\n",
       "      <td>HTTP Status</td>\n",
       "    </tr>\n",
       "    <tr>\n",
       "      <th>1</th>\n",
       "      <td>1/14/2025 23:07</td>\n",
       "      <td>ModernCRM</td>\n",
       "      <td>Email service experiencing issues with sending</td>\n",
       "      <td>Critical Error</td>\n",
       "    </tr>\n",
       "    <tr>\n",
       "      <th>2</th>\n",
       "      <td>1/17/2025 1:29</td>\n",
       "      <td>AnalyticsEngine</td>\n",
       "      <td>Unauthorized access to data was attempted</td>\n",
       "      <td>Security Alert</td>\n",
       "    </tr>\n",
       "    <tr>\n",
       "      <th>3</th>\n",
       "      <td>12-07-2025 0.24</td>\n",
       "      <td>ModernHR</td>\n",
       "      <td>nova.osapi_compute.wsgi.server [req-4895c258-b...</td>\n",
       "      <td>HTTP Status</td>\n",
       "    </tr>\n",
       "    <tr>\n",
       "      <th>4</th>\n",
       "      <td>02-06-2025 18.25</td>\n",
       "      <td>BillingSystem</td>\n",
       "      <td>nova.osapi_compute.wsgi.server [req-ee8bc8ba-9...</td>\n",
       "      <td>HTTP Status</td>\n",
       "    </tr>\n",
       "  </tbody>\n",
       "</table>\n",
       "</div>"
      ]
     },
     "execution_count": 7,
     "metadata": {},
     "output_type": "execute_result"
    }
   ],
   "execution_count": 7
  },
  {
   "metadata": {
    "ExecuteTime": {
     "end_time": "2025-02-16T10:00:07.242219Z",
     "start_time": "2025-02-16T10:00:07.237394Z"
    }
   },
   "cell_type": "code",
   "source": [
    "# unique sources\n",
    "print(df.source.unique())"
   ],
   "id": "ae5fd638ce5994cd",
   "outputs": [
    {
     "name": "stdout",
     "output_type": "stream",
     "text": [
      "['ModernCRM' 'AnalyticsEngine' 'ModernHR' 'BillingSystem' 'ThirdPartyAPI'\n",
      " 'LegacyCRM']\n"
     ]
    }
   ],
   "execution_count": 8
  },
  {
   "metadata": {
    "ExecuteTime": {
     "end_time": "2025-02-16T10:00:30.166990Z",
     "start_time": "2025-02-16T10:00:30.162505Z"
    }
   },
   "cell_type": "code",
   "source": [
    "# unique target labels\n",
    "print(df.target_label.unique())"
   ],
   "id": "50c13d7f19f27a46",
   "outputs": [
    {
     "name": "stdout",
     "output_type": "stream",
     "text": [
      "['HTTP Status' 'Critical Error' 'Security Alert' 'Error'\n",
      " 'System Notification' 'Resource Usage' 'User Action' 'Workflow Error'\n",
      " 'Deprecation Warning']\n"
     ]
    }
   ],
   "execution_count": 9
  },
  {
   "metadata": {
    "ExecuteTime": {
     "end_time": "2025-02-16T10:02:38.758799Z",
     "start_time": "2025-02-16T10:02:38.706473Z"
    }
   },
   "cell_type": "code",
   "source": [
    "# printing log_messages of target_label as System Notification\n",
    "df[df['target_label']==\"System Notification\"].head()"
   ],
   "id": "e55a6d738e21e070",
   "outputs": [
    {
     "data": {
      "text/plain": [
       "           timestamp           source  \\\n",
       "7    10-11-2025 8.44         ModernHR   \n",
       "14   01-04-2025 1.43    ThirdPartyAPI   \n",
       "15   05-01-2025 9.41        ModernCRM   \n",
       "30    4/26/2025 7:54  AnalyticsEngine   \n",
       "36  11/19/2025 13:14    BillingSystem   \n",
       "\n",
       "                                          log_message         target_label  \n",
       "7   File data_6169.csv uploaded successfully by us...  System Notification  \n",
       "14  File data_3847.csv uploaded successfully by us...  System Notification  \n",
       "15                     Backup completed successfully.  System Notification  \n",
       "30             Backup started at 2025-05-14 07:06:55.  System Notification  \n",
       "36           System reboot initiated by user User243.  System Notification  "
      ],
      "text/html": [
       "<div>\n",
       "<style scoped>\n",
       "    .dataframe tbody tr th:only-of-type {\n",
       "        vertical-align: middle;\n",
       "    }\n",
       "\n",
       "    .dataframe tbody tr th {\n",
       "        vertical-align: top;\n",
       "    }\n",
       "\n",
       "    .dataframe thead th {\n",
       "        text-align: right;\n",
       "    }\n",
       "</style>\n",
       "<table border=\"1\" class=\"dataframe\">\n",
       "  <thead>\n",
       "    <tr style=\"text-align: right;\">\n",
       "      <th></th>\n",
       "      <th>timestamp</th>\n",
       "      <th>source</th>\n",
       "      <th>log_message</th>\n",
       "      <th>target_label</th>\n",
       "    </tr>\n",
       "  </thead>\n",
       "  <tbody>\n",
       "    <tr>\n",
       "      <th>7</th>\n",
       "      <td>10-11-2025 8.44</td>\n",
       "      <td>ModernHR</td>\n",
       "      <td>File data_6169.csv uploaded successfully by us...</td>\n",
       "      <td>System Notification</td>\n",
       "    </tr>\n",
       "    <tr>\n",
       "      <th>14</th>\n",
       "      <td>01-04-2025 1.43</td>\n",
       "      <td>ThirdPartyAPI</td>\n",
       "      <td>File data_3847.csv uploaded successfully by us...</td>\n",
       "      <td>System Notification</td>\n",
       "    </tr>\n",
       "    <tr>\n",
       "      <th>15</th>\n",
       "      <td>05-01-2025 9.41</td>\n",
       "      <td>ModernCRM</td>\n",
       "      <td>Backup completed successfully.</td>\n",
       "      <td>System Notification</td>\n",
       "    </tr>\n",
       "    <tr>\n",
       "      <th>30</th>\n",
       "      <td>4/26/2025 7:54</td>\n",
       "      <td>AnalyticsEngine</td>\n",
       "      <td>Backup started at 2025-05-14 07:06:55.</td>\n",
       "      <td>System Notification</td>\n",
       "    </tr>\n",
       "    <tr>\n",
       "      <th>36</th>\n",
       "      <td>11/19/2025 13:14</td>\n",
       "      <td>BillingSystem</td>\n",
       "      <td>System reboot initiated by user User243.</td>\n",
       "      <td>System Notification</td>\n",
       "    </tr>\n",
       "  </tbody>\n",
       "</table>\n",
       "</div>"
      ]
     },
     "execution_count": 11,
     "metadata": {},
     "output_type": "execute_result"
    }
   ],
   "execution_count": 11
  },
  {
   "metadata": {
    "ExecuteTime": {
     "end_time": "2025-02-16T10:03:22.404568Z",
     "start_time": "2025-02-16T10:03:22.387819Z"
    }
   },
   "cell_type": "code",
   "source": "df[df.log_message.str.startswith(\"System reboot initiated by user\")]",
   "id": "5f1f23c3f1195f39",
   "outputs": [
    {
     "data": {
      "text/plain": [
       "             timestamp           source  \\\n",
       "36    11/19/2025 13:14    BillingSystem   \n",
       "92    12-04-2025 21.20    BillingSystem   \n",
       "139   05-08-2025 16.34         ModernHR   \n",
       "140    09-11-2025 8.49  AnalyticsEngine   \n",
       "161    3/31/2025 19:40    BillingSystem   \n",
       "163   06-06-2025 15.29    BillingSystem   \n",
       "307    04-12-2025 0.41    BillingSystem   \n",
       "365   10/20/2025 22:32         ModernHR   \n",
       "508     4/15/2025 2:04    ThirdPartyAPI   \n",
       "552    9/22/2025 20:54         ModernHR   \n",
       "668    09-05-2025 7.14         ModernHR   \n",
       "693   07-06-2025 21.40    BillingSystem   \n",
       "697     3/13/2025 7:09    BillingSystem   \n",
       "714    9/25/2025 23:35    ThirdPartyAPI   \n",
       "730    5/24/2025 11:08  AnalyticsEngine   \n",
       "800    8/15/2025 12:14    BillingSystem   \n",
       "837    04-09-2025 8.28  AnalyticsEngine   \n",
       "852     3/31/2025 5:20        ModernCRM   \n",
       "865     2/25/2025 1:40  AnalyticsEngine   \n",
       "889   11/30/2025 13:45         ModernHR   \n",
       "896    7/28/2025 11:24    BillingSystem   \n",
       "988   09-11-2025 22.23    BillingSystem   \n",
       "1106  12/28/2025 13:32         ModernHR   \n",
       "1159   08-05-2025 6.52    BillingSystem   \n",
       "1194    7/20/2025 9:10  AnalyticsEngine   \n",
       "1275   7/15/2025 23:37    BillingSystem   \n",
       "1299   7/15/2025 19:19    BillingSystem   \n",
       "1304   08-10-2025 6.18    ThirdPartyAPI   \n",
       "1524   11/30/2025 2:39    ThirdPartyAPI   \n",
       "1562    8/18/2025 4:17    ThirdPartyAPI   \n",
       "1624   12/14/2025 5:14  AnalyticsEngine   \n",
       "1663  10/27/2025 22:04  AnalyticsEngine   \n",
       "1776   2/21/2025 11:56         ModernHR   \n",
       "1803    8/22/2025 6:30  AnalyticsEngine   \n",
       "1804   8/26/2025 21:06         ModernHR   \n",
       "1852   1/26/2025 12:34  AnalyticsEngine   \n",
       "1865  05-11-2025 10.58  AnalyticsEngine   \n",
       "1956   9/26/2025 19:32    ThirdPartyAPI   \n",
       "2003   6/23/2025 17:54        ModernCRM   \n",
       "2014   12/25/2025 4:33  AnalyticsEngine   \n",
       "2043  09-12-2025 20.20    ThirdPartyAPI   \n",
       "2074    9/13/2025 8:43        ModernCRM   \n",
       "2228  09-03-2025 11.24         ModernHR   \n",
       "2243    1/16/2025 7:22         ModernHR   \n",
       "2246  03-02-2025 22.56         ModernHR   \n",
       "2253   10-07-2025 2.20         ModernHR   \n",
       "2317   03-07-2025 5.44    BillingSystem   \n",
       "2360   05-01-2025 4.21    ThirdPartyAPI   \n",
       "\n",
       "                                   log_message         target_label  \n",
       "36    System reboot initiated by user User243.  System Notification  \n",
       "92    System reboot initiated by user User471.  System Notification  \n",
       "139   System reboot initiated by user User216.  System Notification  \n",
       "140   System reboot initiated by user User639.  System Notification  \n",
       "161   System reboot initiated by user User819.  System Notification  \n",
       "163   System reboot initiated by user User938.  System Notification  \n",
       "307   System reboot initiated by user User929.  System Notification  \n",
       "365   System reboot initiated by user User533.  System Notification  \n",
       "508   System reboot initiated by user User591.  System Notification  \n",
       "552   System reboot initiated by user User421.  System Notification  \n",
       "668   System reboot initiated by user User297.  System Notification  \n",
       "693   System reboot initiated by user User159.  System Notification  \n",
       "697   System reboot initiated by user User648.  System Notification  \n",
       "714   System reboot initiated by user User600.  System Notification  \n",
       "730   System reboot initiated by user User120.  System Notification  \n",
       "800   System reboot initiated by user User901.  System Notification  \n",
       "837   System reboot initiated by user User876.  System Notification  \n",
       "852   System reboot initiated by user User811.  System Notification  \n",
       "865   System reboot initiated by user User964.  System Notification  \n",
       "889   System reboot initiated by user User766.  System Notification  \n",
       "896   System reboot initiated by user User765.  System Notification  \n",
       "988   System reboot initiated by user User427.  System Notification  \n",
       "1106  System reboot initiated by user User246.  System Notification  \n",
       "1159  System reboot initiated by user User329.  System Notification  \n",
       "1194  System reboot initiated by user User747.  System Notification  \n",
       "1275  System reboot initiated by user User829.  System Notification  \n",
       "1299  System reboot initiated by user User966.  System Notification  \n",
       "1304  System reboot initiated by user User758.  System Notification  \n",
       "1524  System reboot initiated by user User278.  System Notification  \n",
       "1562  System reboot initiated by user User648.  System Notification  \n",
       "1624  System reboot initiated by user User268.  System Notification  \n",
       "1663  System reboot initiated by user User315.  System Notification  \n",
       "1776  System reboot initiated by user User155.  System Notification  \n",
       "1803  System reboot initiated by user User204.  System Notification  \n",
       "1804  System reboot initiated by user User899.  System Notification  \n",
       "1852  System reboot initiated by user User223.  System Notification  \n",
       "1865  System reboot initiated by user User932.  System Notification  \n",
       "1956  System reboot initiated by user User264.  System Notification  \n",
       "2003  System reboot initiated by user User517.  System Notification  \n",
       "2014  System reboot initiated by user User293.  System Notification  \n",
       "2043  System reboot initiated by user User262.  System Notification  \n",
       "2074  System reboot initiated by user User937.  System Notification  \n",
       "2228  System reboot initiated by user User179.  System Notification  \n",
       "2243  System reboot initiated by user User770.  System Notification  \n",
       "2246  System reboot initiated by user User488.  System Notification  \n",
       "2253  System reboot initiated by user User644.  System Notification  \n",
       "2317  System reboot initiated by user User724.  System Notification  \n",
       "2360  System reboot initiated by user User876.  System Notification  "
      ],
      "text/html": [
       "<div>\n",
       "<style scoped>\n",
       "    .dataframe tbody tr th:only-of-type {\n",
       "        vertical-align: middle;\n",
       "    }\n",
       "\n",
       "    .dataframe tbody tr th {\n",
       "        vertical-align: top;\n",
       "    }\n",
       "\n",
       "    .dataframe thead th {\n",
       "        text-align: right;\n",
       "    }\n",
       "</style>\n",
       "<table border=\"1\" class=\"dataframe\">\n",
       "  <thead>\n",
       "    <tr style=\"text-align: right;\">\n",
       "      <th></th>\n",
       "      <th>timestamp</th>\n",
       "      <th>source</th>\n",
       "      <th>log_message</th>\n",
       "      <th>target_label</th>\n",
       "    </tr>\n",
       "  </thead>\n",
       "  <tbody>\n",
       "    <tr>\n",
       "      <th>36</th>\n",
       "      <td>11/19/2025 13:14</td>\n",
       "      <td>BillingSystem</td>\n",
       "      <td>System reboot initiated by user User243.</td>\n",
       "      <td>System Notification</td>\n",
       "    </tr>\n",
       "    <tr>\n",
       "      <th>92</th>\n",
       "      <td>12-04-2025 21.20</td>\n",
       "      <td>BillingSystem</td>\n",
       "      <td>System reboot initiated by user User471.</td>\n",
       "      <td>System Notification</td>\n",
       "    </tr>\n",
       "    <tr>\n",
       "      <th>139</th>\n",
       "      <td>05-08-2025 16.34</td>\n",
       "      <td>ModernHR</td>\n",
       "      <td>System reboot initiated by user User216.</td>\n",
       "      <td>System Notification</td>\n",
       "    </tr>\n",
       "    <tr>\n",
       "      <th>140</th>\n",
       "      <td>09-11-2025 8.49</td>\n",
       "      <td>AnalyticsEngine</td>\n",
       "      <td>System reboot initiated by user User639.</td>\n",
       "      <td>System Notification</td>\n",
       "    </tr>\n",
       "    <tr>\n",
       "      <th>161</th>\n",
       "      <td>3/31/2025 19:40</td>\n",
       "      <td>BillingSystem</td>\n",
       "      <td>System reboot initiated by user User819.</td>\n",
       "      <td>System Notification</td>\n",
       "    </tr>\n",
       "    <tr>\n",
       "      <th>163</th>\n",
       "      <td>06-06-2025 15.29</td>\n",
       "      <td>BillingSystem</td>\n",
       "      <td>System reboot initiated by user User938.</td>\n",
       "      <td>System Notification</td>\n",
       "    </tr>\n",
       "    <tr>\n",
       "      <th>307</th>\n",
       "      <td>04-12-2025 0.41</td>\n",
       "      <td>BillingSystem</td>\n",
       "      <td>System reboot initiated by user User929.</td>\n",
       "      <td>System Notification</td>\n",
       "    </tr>\n",
       "    <tr>\n",
       "      <th>365</th>\n",
       "      <td>10/20/2025 22:32</td>\n",
       "      <td>ModernHR</td>\n",
       "      <td>System reboot initiated by user User533.</td>\n",
       "      <td>System Notification</td>\n",
       "    </tr>\n",
       "    <tr>\n",
       "      <th>508</th>\n",
       "      <td>4/15/2025 2:04</td>\n",
       "      <td>ThirdPartyAPI</td>\n",
       "      <td>System reboot initiated by user User591.</td>\n",
       "      <td>System Notification</td>\n",
       "    </tr>\n",
       "    <tr>\n",
       "      <th>552</th>\n",
       "      <td>9/22/2025 20:54</td>\n",
       "      <td>ModernHR</td>\n",
       "      <td>System reboot initiated by user User421.</td>\n",
       "      <td>System Notification</td>\n",
       "    </tr>\n",
       "    <tr>\n",
       "      <th>668</th>\n",
       "      <td>09-05-2025 7.14</td>\n",
       "      <td>ModernHR</td>\n",
       "      <td>System reboot initiated by user User297.</td>\n",
       "      <td>System Notification</td>\n",
       "    </tr>\n",
       "    <tr>\n",
       "      <th>693</th>\n",
       "      <td>07-06-2025 21.40</td>\n",
       "      <td>BillingSystem</td>\n",
       "      <td>System reboot initiated by user User159.</td>\n",
       "      <td>System Notification</td>\n",
       "    </tr>\n",
       "    <tr>\n",
       "      <th>697</th>\n",
       "      <td>3/13/2025 7:09</td>\n",
       "      <td>BillingSystem</td>\n",
       "      <td>System reboot initiated by user User648.</td>\n",
       "      <td>System Notification</td>\n",
       "    </tr>\n",
       "    <tr>\n",
       "      <th>714</th>\n",
       "      <td>9/25/2025 23:35</td>\n",
       "      <td>ThirdPartyAPI</td>\n",
       "      <td>System reboot initiated by user User600.</td>\n",
       "      <td>System Notification</td>\n",
       "    </tr>\n",
       "    <tr>\n",
       "      <th>730</th>\n",
       "      <td>5/24/2025 11:08</td>\n",
       "      <td>AnalyticsEngine</td>\n",
       "      <td>System reboot initiated by user User120.</td>\n",
       "      <td>System Notification</td>\n",
       "    </tr>\n",
       "    <tr>\n",
       "      <th>800</th>\n",
       "      <td>8/15/2025 12:14</td>\n",
       "      <td>BillingSystem</td>\n",
       "      <td>System reboot initiated by user User901.</td>\n",
       "      <td>System Notification</td>\n",
       "    </tr>\n",
       "    <tr>\n",
       "      <th>837</th>\n",
       "      <td>04-09-2025 8.28</td>\n",
       "      <td>AnalyticsEngine</td>\n",
       "      <td>System reboot initiated by user User876.</td>\n",
       "      <td>System Notification</td>\n",
       "    </tr>\n",
       "    <tr>\n",
       "      <th>852</th>\n",
       "      <td>3/31/2025 5:20</td>\n",
       "      <td>ModernCRM</td>\n",
       "      <td>System reboot initiated by user User811.</td>\n",
       "      <td>System Notification</td>\n",
       "    </tr>\n",
       "    <tr>\n",
       "      <th>865</th>\n",
       "      <td>2/25/2025 1:40</td>\n",
       "      <td>AnalyticsEngine</td>\n",
       "      <td>System reboot initiated by user User964.</td>\n",
       "      <td>System Notification</td>\n",
       "    </tr>\n",
       "    <tr>\n",
       "      <th>889</th>\n",
       "      <td>11/30/2025 13:45</td>\n",
       "      <td>ModernHR</td>\n",
       "      <td>System reboot initiated by user User766.</td>\n",
       "      <td>System Notification</td>\n",
       "    </tr>\n",
       "    <tr>\n",
       "      <th>896</th>\n",
       "      <td>7/28/2025 11:24</td>\n",
       "      <td>BillingSystem</td>\n",
       "      <td>System reboot initiated by user User765.</td>\n",
       "      <td>System Notification</td>\n",
       "    </tr>\n",
       "    <tr>\n",
       "      <th>988</th>\n",
       "      <td>09-11-2025 22.23</td>\n",
       "      <td>BillingSystem</td>\n",
       "      <td>System reboot initiated by user User427.</td>\n",
       "      <td>System Notification</td>\n",
       "    </tr>\n",
       "    <tr>\n",
       "      <th>1106</th>\n",
       "      <td>12/28/2025 13:32</td>\n",
       "      <td>ModernHR</td>\n",
       "      <td>System reboot initiated by user User246.</td>\n",
       "      <td>System Notification</td>\n",
       "    </tr>\n",
       "    <tr>\n",
       "      <th>1159</th>\n",
       "      <td>08-05-2025 6.52</td>\n",
       "      <td>BillingSystem</td>\n",
       "      <td>System reboot initiated by user User329.</td>\n",
       "      <td>System Notification</td>\n",
       "    </tr>\n",
       "    <tr>\n",
       "      <th>1194</th>\n",
       "      <td>7/20/2025 9:10</td>\n",
       "      <td>AnalyticsEngine</td>\n",
       "      <td>System reboot initiated by user User747.</td>\n",
       "      <td>System Notification</td>\n",
       "    </tr>\n",
       "    <tr>\n",
       "      <th>1275</th>\n",
       "      <td>7/15/2025 23:37</td>\n",
       "      <td>BillingSystem</td>\n",
       "      <td>System reboot initiated by user User829.</td>\n",
       "      <td>System Notification</td>\n",
       "    </tr>\n",
       "    <tr>\n",
       "      <th>1299</th>\n",
       "      <td>7/15/2025 19:19</td>\n",
       "      <td>BillingSystem</td>\n",
       "      <td>System reboot initiated by user User966.</td>\n",
       "      <td>System Notification</td>\n",
       "    </tr>\n",
       "    <tr>\n",
       "      <th>1304</th>\n",
       "      <td>08-10-2025 6.18</td>\n",
       "      <td>ThirdPartyAPI</td>\n",
       "      <td>System reboot initiated by user User758.</td>\n",
       "      <td>System Notification</td>\n",
       "    </tr>\n",
       "    <tr>\n",
       "      <th>1524</th>\n",
       "      <td>11/30/2025 2:39</td>\n",
       "      <td>ThirdPartyAPI</td>\n",
       "      <td>System reboot initiated by user User278.</td>\n",
       "      <td>System Notification</td>\n",
       "    </tr>\n",
       "    <tr>\n",
       "      <th>1562</th>\n",
       "      <td>8/18/2025 4:17</td>\n",
       "      <td>ThirdPartyAPI</td>\n",
       "      <td>System reboot initiated by user User648.</td>\n",
       "      <td>System Notification</td>\n",
       "    </tr>\n",
       "    <tr>\n",
       "      <th>1624</th>\n",
       "      <td>12/14/2025 5:14</td>\n",
       "      <td>AnalyticsEngine</td>\n",
       "      <td>System reboot initiated by user User268.</td>\n",
       "      <td>System Notification</td>\n",
       "    </tr>\n",
       "    <tr>\n",
       "      <th>1663</th>\n",
       "      <td>10/27/2025 22:04</td>\n",
       "      <td>AnalyticsEngine</td>\n",
       "      <td>System reboot initiated by user User315.</td>\n",
       "      <td>System Notification</td>\n",
       "    </tr>\n",
       "    <tr>\n",
       "      <th>1776</th>\n",
       "      <td>2/21/2025 11:56</td>\n",
       "      <td>ModernHR</td>\n",
       "      <td>System reboot initiated by user User155.</td>\n",
       "      <td>System Notification</td>\n",
       "    </tr>\n",
       "    <tr>\n",
       "      <th>1803</th>\n",
       "      <td>8/22/2025 6:30</td>\n",
       "      <td>AnalyticsEngine</td>\n",
       "      <td>System reboot initiated by user User204.</td>\n",
       "      <td>System Notification</td>\n",
       "    </tr>\n",
       "    <tr>\n",
       "      <th>1804</th>\n",
       "      <td>8/26/2025 21:06</td>\n",
       "      <td>ModernHR</td>\n",
       "      <td>System reboot initiated by user User899.</td>\n",
       "      <td>System Notification</td>\n",
       "    </tr>\n",
       "    <tr>\n",
       "      <th>1852</th>\n",
       "      <td>1/26/2025 12:34</td>\n",
       "      <td>AnalyticsEngine</td>\n",
       "      <td>System reboot initiated by user User223.</td>\n",
       "      <td>System Notification</td>\n",
       "    </tr>\n",
       "    <tr>\n",
       "      <th>1865</th>\n",
       "      <td>05-11-2025 10.58</td>\n",
       "      <td>AnalyticsEngine</td>\n",
       "      <td>System reboot initiated by user User932.</td>\n",
       "      <td>System Notification</td>\n",
       "    </tr>\n",
       "    <tr>\n",
       "      <th>1956</th>\n",
       "      <td>9/26/2025 19:32</td>\n",
       "      <td>ThirdPartyAPI</td>\n",
       "      <td>System reboot initiated by user User264.</td>\n",
       "      <td>System Notification</td>\n",
       "    </tr>\n",
       "    <tr>\n",
       "      <th>2003</th>\n",
       "      <td>6/23/2025 17:54</td>\n",
       "      <td>ModernCRM</td>\n",
       "      <td>System reboot initiated by user User517.</td>\n",
       "      <td>System Notification</td>\n",
       "    </tr>\n",
       "    <tr>\n",
       "      <th>2014</th>\n",
       "      <td>12/25/2025 4:33</td>\n",
       "      <td>AnalyticsEngine</td>\n",
       "      <td>System reboot initiated by user User293.</td>\n",
       "      <td>System Notification</td>\n",
       "    </tr>\n",
       "    <tr>\n",
       "      <th>2043</th>\n",
       "      <td>09-12-2025 20.20</td>\n",
       "      <td>ThirdPartyAPI</td>\n",
       "      <td>System reboot initiated by user User262.</td>\n",
       "      <td>System Notification</td>\n",
       "    </tr>\n",
       "    <tr>\n",
       "      <th>2074</th>\n",
       "      <td>9/13/2025 8:43</td>\n",
       "      <td>ModernCRM</td>\n",
       "      <td>System reboot initiated by user User937.</td>\n",
       "      <td>System Notification</td>\n",
       "    </tr>\n",
       "    <tr>\n",
       "      <th>2228</th>\n",
       "      <td>09-03-2025 11.24</td>\n",
       "      <td>ModernHR</td>\n",
       "      <td>System reboot initiated by user User179.</td>\n",
       "      <td>System Notification</td>\n",
       "    </tr>\n",
       "    <tr>\n",
       "      <th>2243</th>\n",
       "      <td>1/16/2025 7:22</td>\n",
       "      <td>ModernHR</td>\n",
       "      <td>System reboot initiated by user User770.</td>\n",
       "      <td>System Notification</td>\n",
       "    </tr>\n",
       "    <tr>\n",
       "      <th>2246</th>\n",
       "      <td>03-02-2025 22.56</td>\n",
       "      <td>ModernHR</td>\n",
       "      <td>System reboot initiated by user User488.</td>\n",
       "      <td>System Notification</td>\n",
       "    </tr>\n",
       "    <tr>\n",
       "      <th>2253</th>\n",
       "      <td>10-07-2025 2.20</td>\n",
       "      <td>ModernHR</td>\n",
       "      <td>System reboot initiated by user User644.</td>\n",
       "      <td>System Notification</td>\n",
       "    </tr>\n",
       "    <tr>\n",
       "      <th>2317</th>\n",
       "      <td>03-07-2025 5.44</td>\n",
       "      <td>BillingSystem</td>\n",
       "      <td>System reboot initiated by user User724.</td>\n",
       "      <td>System Notification</td>\n",
       "    </tr>\n",
       "    <tr>\n",
       "      <th>2360</th>\n",
       "      <td>05-01-2025 4.21</td>\n",
       "      <td>ThirdPartyAPI</td>\n",
       "      <td>System reboot initiated by user User876.</td>\n",
       "      <td>System Notification</td>\n",
       "    </tr>\n",
       "  </tbody>\n",
       "</table>\n",
       "</div>"
      ]
     },
     "execution_count": 12,
     "metadata": {},
     "output_type": "execute_result"
    }
   ],
   "execution_count": 12
  },
  {
   "metadata": {
    "ExecuteTime": {
     "end_time": "2025-02-16T10:05:11.059910Z",
     "start_time": "2025-02-16T10:05:11.048913Z"
    }
   },
   "cell_type": "code",
   "source": [
    "# Regex pattern\n",
    "regex_pattern = \"User User\\d+ logged (in|out).\"\n",
    "df[df['log_message'].str.match(regex_pattern)]"
   ],
   "id": "6ba8a9b65459073f",
   "outputs": [
    {
     "data": {
      "text/plain": [
       "             timestamp           source               log_message target_label\n",
       "27     9/24/2025 19:57    ThirdPartyAPI  User User685 logged out.  User Action\n",
       "57      9/14/2025 3:03  AnalyticsEngine   User User395 logged in.  User Action\n",
       "85      3/13/2025 2:11         ModernHR   User User225 logged in.  User Action\n",
       "88    03-08-2025 19.04  AnalyticsEngine  User User494 logged out.  User Action\n",
       "126   11/22/2025 21:09    ThirdPartyAPI   User User900 logged in.  User Action\n",
       "...                ...              ...                       ...          ...\n",
       "2207   10-04-2025 8.06        ModernCRM   User User495 logged in.  User Action\n",
       "2263   2/27/2025 14:40  AnalyticsEngine  User User429 logged out.  User Action\n",
       "2275   3/13/2025 17:17  AnalyticsEngine  User User755 logged out.  User Action\n",
       "2323  12-01-2025 18.17    ThirdPartyAPI  User User882 logged out.  User Action\n",
       "2353  06-10-2025 19.38  AnalyticsEngine   User User536 logged in.  User Action\n",
       "\n",
       "[100 rows x 4 columns]"
      ],
      "text/html": [
       "<div>\n",
       "<style scoped>\n",
       "    .dataframe tbody tr th:only-of-type {\n",
       "        vertical-align: middle;\n",
       "    }\n",
       "\n",
       "    .dataframe tbody tr th {\n",
       "        vertical-align: top;\n",
       "    }\n",
       "\n",
       "    .dataframe thead th {\n",
       "        text-align: right;\n",
       "    }\n",
       "</style>\n",
       "<table border=\"1\" class=\"dataframe\">\n",
       "  <thead>\n",
       "    <tr style=\"text-align: right;\">\n",
       "      <th></th>\n",
       "      <th>timestamp</th>\n",
       "      <th>source</th>\n",
       "      <th>log_message</th>\n",
       "      <th>target_label</th>\n",
       "    </tr>\n",
       "  </thead>\n",
       "  <tbody>\n",
       "    <tr>\n",
       "      <th>27</th>\n",
       "      <td>9/24/2025 19:57</td>\n",
       "      <td>ThirdPartyAPI</td>\n",
       "      <td>User User685 logged out.</td>\n",
       "      <td>User Action</td>\n",
       "    </tr>\n",
       "    <tr>\n",
       "      <th>57</th>\n",
       "      <td>9/14/2025 3:03</td>\n",
       "      <td>AnalyticsEngine</td>\n",
       "      <td>User User395 logged in.</td>\n",
       "      <td>User Action</td>\n",
       "    </tr>\n",
       "    <tr>\n",
       "      <th>85</th>\n",
       "      <td>3/13/2025 2:11</td>\n",
       "      <td>ModernHR</td>\n",
       "      <td>User User225 logged in.</td>\n",
       "      <td>User Action</td>\n",
       "    </tr>\n",
       "    <tr>\n",
       "      <th>88</th>\n",
       "      <td>03-08-2025 19.04</td>\n",
       "      <td>AnalyticsEngine</td>\n",
       "      <td>User User494 logged out.</td>\n",
       "      <td>User Action</td>\n",
       "    </tr>\n",
       "    <tr>\n",
       "      <th>126</th>\n",
       "      <td>11/22/2025 21:09</td>\n",
       "      <td>ThirdPartyAPI</td>\n",
       "      <td>User User900 logged in.</td>\n",
       "      <td>User Action</td>\n",
       "    </tr>\n",
       "    <tr>\n",
       "      <th>...</th>\n",
       "      <td>...</td>\n",
       "      <td>...</td>\n",
       "      <td>...</td>\n",
       "      <td>...</td>\n",
       "    </tr>\n",
       "    <tr>\n",
       "      <th>2207</th>\n",
       "      <td>10-04-2025 8.06</td>\n",
       "      <td>ModernCRM</td>\n",
       "      <td>User User495 logged in.</td>\n",
       "      <td>User Action</td>\n",
       "    </tr>\n",
       "    <tr>\n",
       "      <th>2263</th>\n",
       "      <td>2/27/2025 14:40</td>\n",
       "      <td>AnalyticsEngine</td>\n",
       "      <td>User User429 logged out.</td>\n",
       "      <td>User Action</td>\n",
       "    </tr>\n",
       "    <tr>\n",
       "      <th>2275</th>\n",
       "      <td>3/13/2025 17:17</td>\n",
       "      <td>AnalyticsEngine</td>\n",
       "      <td>User User755 logged out.</td>\n",
       "      <td>User Action</td>\n",
       "    </tr>\n",
       "    <tr>\n",
       "      <th>2323</th>\n",
       "      <td>12-01-2025 18.17</td>\n",
       "      <td>ThirdPartyAPI</td>\n",
       "      <td>User User882 logged out.</td>\n",
       "      <td>User Action</td>\n",
       "    </tr>\n",
       "    <tr>\n",
       "      <th>2353</th>\n",
       "      <td>06-10-2025 19.38</td>\n",
       "      <td>AnalyticsEngine</td>\n",
       "      <td>User User536 logged in.</td>\n",
       "      <td>User Action</td>\n",
       "    </tr>\n",
       "  </tbody>\n",
       "</table>\n",
       "<p>100 rows × 4 columns</p>\n",
       "</div>"
      ]
     },
     "execution_count": 13,
     "metadata": {},
     "output_type": "execute_result"
    }
   ],
   "execution_count": 13
  },
  {
   "metadata": {
    "ExecuteTime": {
     "end_time": "2025-02-16T10:05:44.579248Z",
     "start_time": "2025-02-16T10:05:44.570330Z"
    }
   },
   "cell_type": "code",
   "source": [
    "regex_pattern = \"Backup (started|ended) at .*\"\n",
    "df[df['log_message'].str.match(regex_pattern)]"
   ],
   "id": "5d1666e946f4515a",
   "outputs": [
    {
     "data": {
      "text/plain": [
       "             timestamp           source  \\\n",
       "30      4/26/2025 7:54  AnalyticsEngine   \n",
       "44      6/20/2025 0:53    BillingSystem   \n",
       "108   03-04-2025 21.15    BillingSystem   \n",
       "128   11/25/2025 16:45    BillingSystem   \n",
       "191   05-06-2025 23.58    ThirdPartyAPI   \n",
       "...                ...              ...   \n",
       "2304   11-10-2025 9.39         ModernHR   \n",
       "2341   1/27/2025 22:19    ThirdPartyAPI   \n",
       "2346   8/26/2025 10:04    ThirdPartyAPI   \n",
       "2363  10/26/2025 23:44        ModernCRM   \n",
       "2395  05-02-2025 14.29    ThirdPartyAPI   \n",
       "\n",
       "                                 log_message         target_label  \n",
       "30    Backup started at 2025-05-14 07:06:55.  System Notification  \n",
       "44    Backup started at 2025-02-15 20:00:19.  System Notification  \n",
       "108     Backup ended at 2025-08-08 13:06:23.  System Notification  \n",
       "128   Backup started at 2025-11-14 08:27:43.  System Notification  \n",
       "191   Backup started at 2025-12-09 10:19:11.  System Notification  \n",
       "...                                      ...                  ...  \n",
       "2304  Backup started at 2025-09-08 22:36:53.  System Notification  \n",
       "2341  Backup started at 2025-05-13 09:01:52.  System Notification  \n",
       "2346    Backup ended at 2025-05-15 10:56:20.  System Notification  \n",
       "2363    Backup ended at 2025-09-19 08:52:02.  System Notification  \n",
       "2395    Backup ended at 2025-05-06 11:23:16.  System Notification  \n",
       "\n",
       "[86 rows x 4 columns]"
      ],
      "text/html": [
       "<div>\n",
       "<style scoped>\n",
       "    .dataframe tbody tr th:only-of-type {\n",
       "        vertical-align: middle;\n",
       "    }\n",
       "\n",
       "    .dataframe tbody tr th {\n",
       "        vertical-align: top;\n",
       "    }\n",
       "\n",
       "    .dataframe thead th {\n",
       "        text-align: right;\n",
       "    }\n",
       "</style>\n",
       "<table border=\"1\" class=\"dataframe\">\n",
       "  <thead>\n",
       "    <tr style=\"text-align: right;\">\n",
       "      <th></th>\n",
       "      <th>timestamp</th>\n",
       "      <th>source</th>\n",
       "      <th>log_message</th>\n",
       "      <th>target_label</th>\n",
       "    </tr>\n",
       "  </thead>\n",
       "  <tbody>\n",
       "    <tr>\n",
       "      <th>30</th>\n",
       "      <td>4/26/2025 7:54</td>\n",
       "      <td>AnalyticsEngine</td>\n",
       "      <td>Backup started at 2025-05-14 07:06:55.</td>\n",
       "      <td>System Notification</td>\n",
       "    </tr>\n",
       "    <tr>\n",
       "      <th>44</th>\n",
       "      <td>6/20/2025 0:53</td>\n",
       "      <td>BillingSystem</td>\n",
       "      <td>Backup started at 2025-02-15 20:00:19.</td>\n",
       "      <td>System Notification</td>\n",
       "    </tr>\n",
       "    <tr>\n",
       "      <th>108</th>\n",
       "      <td>03-04-2025 21.15</td>\n",
       "      <td>BillingSystem</td>\n",
       "      <td>Backup ended at 2025-08-08 13:06:23.</td>\n",
       "      <td>System Notification</td>\n",
       "    </tr>\n",
       "    <tr>\n",
       "      <th>128</th>\n",
       "      <td>11/25/2025 16:45</td>\n",
       "      <td>BillingSystem</td>\n",
       "      <td>Backup started at 2025-11-14 08:27:43.</td>\n",
       "      <td>System Notification</td>\n",
       "    </tr>\n",
       "    <tr>\n",
       "      <th>191</th>\n",
       "      <td>05-06-2025 23.58</td>\n",
       "      <td>ThirdPartyAPI</td>\n",
       "      <td>Backup started at 2025-12-09 10:19:11.</td>\n",
       "      <td>System Notification</td>\n",
       "    </tr>\n",
       "    <tr>\n",
       "      <th>...</th>\n",
       "      <td>...</td>\n",
       "      <td>...</td>\n",
       "      <td>...</td>\n",
       "      <td>...</td>\n",
       "    </tr>\n",
       "    <tr>\n",
       "      <th>2304</th>\n",
       "      <td>11-10-2025 9.39</td>\n",
       "      <td>ModernHR</td>\n",
       "      <td>Backup started at 2025-09-08 22:36:53.</td>\n",
       "      <td>System Notification</td>\n",
       "    </tr>\n",
       "    <tr>\n",
       "      <th>2341</th>\n",
       "      <td>1/27/2025 22:19</td>\n",
       "      <td>ThirdPartyAPI</td>\n",
       "      <td>Backup started at 2025-05-13 09:01:52.</td>\n",
       "      <td>System Notification</td>\n",
       "    </tr>\n",
       "    <tr>\n",
       "      <th>2346</th>\n",
       "      <td>8/26/2025 10:04</td>\n",
       "      <td>ThirdPartyAPI</td>\n",
       "      <td>Backup ended at 2025-05-15 10:56:20.</td>\n",
       "      <td>System Notification</td>\n",
       "    </tr>\n",
       "    <tr>\n",
       "      <th>2363</th>\n",
       "      <td>10/26/2025 23:44</td>\n",
       "      <td>ModernCRM</td>\n",
       "      <td>Backup ended at 2025-09-19 08:52:02.</td>\n",
       "      <td>System Notification</td>\n",
       "    </tr>\n",
       "    <tr>\n",
       "      <th>2395</th>\n",
       "      <td>05-02-2025 14.29</td>\n",
       "      <td>ThirdPartyAPI</td>\n",
       "      <td>Backup ended at 2025-05-06 11:23:16.</td>\n",
       "      <td>System Notification</td>\n",
       "    </tr>\n",
       "  </tbody>\n",
       "</table>\n",
       "<p>86 rows × 4 columns</p>\n",
       "</div>"
      ]
     },
     "execution_count": 14,
     "metadata": {},
     "output_type": "execute_result"
    }
   ],
   "execution_count": 14
  },
  {
   "metadata": {},
   "cell_type": "markdown",
   "source": "## Clustering messages based on the log_message",
   "id": "fea62ff0bf78c251"
  },
  {
   "metadata": {
    "ExecuteTime": {
     "end_time": "2025-02-16T10:07:30.505376Z",
     "start_time": "2025-02-16T10:07:01.869464Z"
    }
   },
   "cell_type": "code",
   "source": [
    "from sklearn.cluster import DBSCAN\n",
    "from sentence_transformers import SentenceTransformer"
   ],
   "id": "720d59fc2705cc44",
   "outputs": [],
   "execution_count": 15
  },
  {
   "metadata": {
    "ExecuteTime": {
     "end_time": "2025-02-16T10:09:09.081554Z",
     "start_time": "2025-02-16T10:08:45.769737Z"
    }
   },
   "cell_type": "code",
   "source": [
    "model = SentenceTransformer('all-MiniLM-L6-v2')  # Lightweight embedding model\n",
    "embeddings = model.encode(df['log_message'].tolist())\n",
    "print(embeddings[:5])"
   ],
   "id": "bb9517947444eceb",
   "outputs": [
    {
     "name": "stdout",
     "output_type": "stream",
     "text": [
      "[[-0.10293962  0.03354594 -0.02202607 ...  0.00457793 -0.04259717\n",
      "   0.00322621]\n",
      " [ 0.00804572 -0.03573923  0.04938739 ...  0.01538319 -0.06230947\n",
      "  -0.02774666]\n",
      " [-0.00908224  0.13003924 -0.05275568 ...  0.02014104 -0.05117098\n",
      "  -0.02930294]\n",
      " [-0.09751046  0.04911299 -0.03977424 ...  0.02477502 -0.03546079\n",
      "  -0.00018598]\n",
      " [-0.10468338  0.05926038 -0.02488499 ...  0.02502055 -0.037193\n",
      "  -0.0256891 ]]\n"
     ]
    }
   ],
   "execution_count": 16
  },
  {
   "metadata": {
    "ExecuteTime": {
     "end_time": "2025-02-16T10:11:07.363608Z",
     "start_time": "2025-02-16T10:11:07.246689Z"
    }
   },
   "cell_type": "code",
   "source": [
    "clustering = DBSCAN(eps=0.2, min_samples=1, metric=\"cosine\").fit(embeddings)\n",
    "df['cluster'] = clustering.labels_"
   ],
   "id": "d1bf86f40a9e6ec7",
   "outputs": [],
   "execution_count": 22
  },
  {
   "metadata": {
    "ExecuteTime": {
     "end_time": "2025-02-16T10:11:08.680038Z",
     "start_time": "2025-02-16T10:11:08.673478Z"
    }
   },
   "cell_type": "code",
   "source": "df.head()",
   "id": "eb7ade59214ee61b",
   "outputs": [
    {
     "data": {
      "text/plain": [
       "          timestamp           source  \\\n",
       "0   27-06-2025 7.20        ModernCRM   \n",
       "1   1/14/2025 23:07        ModernCRM   \n",
       "2    1/17/2025 1:29  AnalyticsEngine   \n",
       "3   12-07-2025 0.24         ModernHR   \n",
       "4  02-06-2025 18.25    BillingSystem   \n",
       "\n",
       "                                         log_message    target_label  cluster  \n",
       "0  nova.osapi_compute.wsgi.server [req-b9718cd8-f...     HTTP Status        0  \n",
       "1     Email service experiencing issues with sending  Critical Error        1  \n",
       "2          Unauthorized access to data was attempted  Security Alert        2  \n",
       "3  nova.osapi_compute.wsgi.server [req-4895c258-b...     HTTP Status        0  \n",
       "4  nova.osapi_compute.wsgi.server [req-ee8bc8ba-9...     HTTP Status        0  "
      ],
      "text/html": [
       "<div>\n",
       "<style scoped>\n",
       "    .dataframe tbody tr th:only-of-type {\n",
       "        vertical-align: middle;\n",
       "    }\n",
       "\n",
       "    .dataframe tbody tr th {\n",
       "        vertical-align: top;\n",
       "    }\n",
       "\n",
       "    .dataframe thead th {\n",
       "        text-align: right;\n",
       "    }\n",
       "</style>\n",
       "<table border=\"1\" class=\"dataframe\">\n",
       "  <thead>\n",
       "    <tr style=\"text-align: right;\">\n",
       "      <th></th>\n",
       "      <th>timestamp</th>\n",
       "      <th>source</th>\n",
       "      <th>log_message</th>\n",
       "      <th>target_label</th>\n",
       "      <th>cluster</th>\n",
       "    </tr>\n",
       "  </thead>\n",
       "  <tbody>\n",
       "    <tr>\n",
       "      <th>0</th>\n",
       "      <td>27-06-2025 7.20</td>\n",
       "      <td>ModernCRM</td>\n",
       "      <td>nova.osapi_compute.wsgi.server [req-b9718cd8-f...</td>\n",
       "      <td>HTTP Status</td>\n",
       "      <td>0</td>\n",
       "    </tr>\n",
       "    <tr>\n",
       "      <th>1</th>\n",
       "      <td>1/14/2025 23:07</td>\n",
       "      <td>ModernCRM</td>\n",
       "      <td>Email service experiencing issues with sending</td>\n",
       "      <td>Critical Error</td>\n",
       "      <td>1</td>\n",
       "    </tr>\n",
       "    <tr>\n",
       "      <th>2</th>\n",
       "      <td>1/17/2025 1:29</td>\n",
       "      <td>AnalyticsEngine</td>\n",
       "      <td>Unauthorized access to data was attempted</td>\n",
       "      <td>Security Alert</td>\n",
       "      <td>2</td>\n",
       "    </tr>\n",
       "    <tr>\n",
       "      <th>3</th>\n",
       "      <td>12-07-2025 0.24</td>\n",
       "      <td>ModernHR</td>\n",
       "      <td>nova.osapi_compute.wsgi.server [req-4895c258-b...</td>\n",
       "      <td>HTTP Status</td>\n",
       "      <td>0</td>\n",
       "    </tr>\n",
       "    <tr>\n",
       "      <th>4</th>\n",
       "      <td>02-06-2025 18.25</td>\n",
       "      <td>BillingSystem</td>\n",
       "      <td>nova.osapi_compute.wsgi.server [req-ee8bc8ba-9...</td>\n",
       "      <td>HTTP Status</td>\n",
       "      <td>0</td>\n",
       "    </tr>\n",
       "  </tbody>\n",
       "</table>\n",
       "</div>"
      ]
     },
     "execution_count": 23,
     "metadata": {},
     "output_type": "execute_result"
    }
   ],
   "execution_count": 23
  },
  {
   "metadata": {
    "ExecuteTime": {
     "end_time": "2025-02-16T10:11:10.482654Z",
     "start_time": "2025-02-16T10:11:10.477663Z"
    }
   },
   "cell_type": "code",
   "source": "len(df.cluster.unique())",
   "id": "640a7a5eafa8e2a4",
   "outputs": [
    {
     "data": {
      "text/plain": [
       "136"
      ]
     },
     "execution_count": 24,
     "metadata": {},
     "output_type": "execute_result"
    }
   ],
   "execution_count": 24
  },
  {
   "metadata": {
    "ExecuteTime": {
     "end_time": "2025-02-16T10:12:22.349023Z",
     "start_time": "2025-02-16T10:12:22.323010Z"
    }
   },
   "cell_type": "code",
   "source": [
    "# Group by cluster to inspect patterns\n",
    "clusters = df.groupby('cluster')['log_message'].apply(list)\n",
    "sorted_clusters = clusters.sort_values(key=lambda x: x.map(len), ascending=False)"
   ],
   "id": "dce49b847ab937b4",
   "outputs": [],
   "execution_count": 25
  },
  {
   "metadata": {
    "ExecuteTime": {
     "end_time": "2025-02-16T10:12:43.535359Z",
     "start_time": "2025-02-16T10:12:43.530281Z"
    }
   },
   "cell_type": "code",
   "source": "len(sorted_clusters)",
   "id": "fbd2c743d3d3ad34",
   "outputs": [
    {
     "data": {
      "text/plain": [
       "136"
      ]
     },
     "execution_count": 27,
     "metadata": {},
     "output_type": "execute_result"
    }
   ],
   "execution_count": 27
  },
  {
   "metadata": {
    "ExecuteTime": {
     "end_time": "2025-02-16T10:12:59.786791Z",
     "start_time": "2025-02-16T10:12:59.753412Z"
    }
   },
   "cell_type": "code",
   "source": [
    "print(\"Clustered Patterns:\")\n",
    "for cluster_id, messages in sorted_clusters.items():\n",
    "    if len(messages) > 10:\n",
    "        print(f\"Cluster {cluster_id}:\")\n",
    "        for msg in messages[:5]:\n",
    "            print(f\"  {msg}\")"
   ],
   "id": "ac2631ba346c5d5",
   "outputs": [
    {
     "name": "stdout",
     "output_type": "stream",
     "text": [
      "Clustered Patterns:\n",
      "Cluster 0:\n",
      "  nova.osapi_compute.wsgi.server [req-b9718cd8-f65e-49cc-8349-6cf7122af137 113d3a99c3da401fbd62cc2caa5b96d2 54fadb412c4e40cdbaed9335e4c35a9e - - -] 10.11.10.1 \"GET /v2/54fadb412c4e40cdbaed9335e4c35a9e/servers/detail HTTP/1.1\" status: 200 len: 1893 time: 0.2675118\n",
      "  nova.osapi_compute.wsgi.server [req-4895c258-b2f8-488f-a2a3-4fae63982e48 113d3a99c3da401fbd62cc2caa5b96d2 54fadb412c4e40cdbaed9335e4c35a9e - - -] 10.11.10.1 \"GET /v2/54fadb412c4e40cdbaed9335e4c35a9e/servers/detail HTTP/1.1\" HTTP status code -  200 len: 211 time: 0.0968180\n",
      "  nova.osapi_compute.wsgi.server [req-ee8bc8ba-9265-4280-9215-dbe000a41209 113d3a99c3da401fbd62cc2caa5b96d2 54fadb412c4e40cdbaed9335e4c35a9e - - -] 10.11.10.1 \"GET /v2/54fadb412c4e40cdbaed9335e4c35a9e/servers/detail HTTP/1.1\" RCODE  200 len: 1874 time: 0.2280791\n",
      "  nova.osapi_compute.wsgi.server [req-f0bffbc3-5ab0-4916-91c1-0a61dd7d4ec2 113d3a99c3da401fbd62cc2caa5b96d2 54fadb412c4e40cdbaed9335e4c35a9e - - -] 10.11.10.1 \"GET /v2/54fadb412c4e40cdbaed9335e4c35a9e/servers/detail HTTP/1.1\" Return code: 200 len: 1874 time: 0.2131531\n",
      "  nova.osapi_compute.wsgi.server [req-2bf7cfee-a236-42f3-8fb1-96fefab0b302 113d3a99c3da401fbd62cc2caa5b96d2 54fadb412c4e40cdbaed9335e4c35a9e - - -] 10.11.10.1 \"GET /v2/54fadb412c4e40cdbaed9335e4c35a9e/servers/detail HTTP/1.1\" RCODE  200 len: 1874 time: 0.1794369\n",
      "Cluster 5:\n",
      "  nova.compute.claims [req-a07ac654-8e81-416d-bfbb-189116b07969 113d3a99c3da401fbd62cc2caa5b96d2 54fadb412c4e40cdbaed9335e4c35a9e - - -] [instance: bf8c824d-f099-4433-a41e-e3da7578262e] Total memory: 64172 MB, used: 512.00 MB\n",
      "  nova.compute.claims [req-d6986b54-3735-4a42-9074-0ba7d9717de9 113d3a99c3da401fbd62cc2caa5b96d2 54fadb412c4e40cdbaed9335e4c35a9e - - -] [instance: af5f7392-f7d4-4298-b647-c98924c64aa1] memory limit: 96258.00 MB, free: 95746.00 MB\n",
      "  nova.compute.claims [req-72b4858f-049e-49e1-b31e-b562c5018eaf 113d3a99c3da401fbd62cc2caa5b96d2 54fadb412c4e40cdbaed9335e4c35a9e - - -] [instance: 63a0d960-70b6-44c6-b606-491478a5cadf] disk limit not specified, defaulting to unlimited\n",
      "  nova.compute.claims [req-5c8f52bd-8e3c-41f0-95a5-7861d247cafa 113d3a99c3da401fbd62cc2caa5b96d2 54fadb412c4e40cdbaed9335e4c35a9e - - -] [instance: d96a117b-0193-4549-bdcc-63b917273d1d] vcpu limit not specified, defaulting to unlimited\n",
      "  nova.compute.claims [req-d38f479d-9bb9-4276-9688-52607e8fd350 113d3a99c3da401fbd62cc2caa5b96d2 54fadb412c4e40cdbaed9335e4c35a9e - - -] [instance: 95960536-049b-41f6-9049-05fc479b6a7c] disk limit not specified, defaulting to unlimited\n",
      "Cluster 11:\n",
      "  User User685 logged out.\n",
      "  User User395 logged in.\n",
      "  User User225 logged in.\n",
      "  User User494 logged out.\n",
      "  User User900 logged in.\n",
      "Cluster 13:\n",
      "  Backup started at 2025-05-14 07:06:55.\n",
      "  Backup started at 2025-02-15 20:00:19.\n",
      "  Backup ended at 2025-08-08 13:06:23.\n",
      "  Backup started at 2025-11-14 08:27:43.\n",
      "  Backup started at 2025-12-09 10:19:11.\n",
      "Cluster 7:\n",
      "  Multiple bad login attempts detected on user 8538 account\n",
      "  Multiple login failures occurred on user 9052 account\n",
      "  User 7153 made multiple incorrect login attempts\n",
      "  User 8300 made multiple incorrect login attempts\n",
      "  Multiple login failures were detected for user 6373\n",
      "Cluster 8:\n",
      "  Backup completed successfully.\n",
      "  Backup completed successfully.\n",
      "  Backup completed successfully.\n",
      "  Backup completed successfully.\n",
      "  Backup completed successfully.\n",
      "Cluster 21:\n",
      "  System updated to version 3.9.1.\n",
      "  System updated to version 5.5.4.\n",
      "  System updated to version 4.7.4.\n",
      "  System updated to version 3.7.7.\n",
      "  System updated to version 2.6.2.\n",
      "Cluster 3:\n",
      "  Shard 6 replication task ended in failure\n",
      "  Data replication task for shard 14 did not complete\n",
      "  Data replication task failed for shard 17\n",
      "  Replication of data to shard 14 failed\n",
      "  Data replication task for shard 6 did not complete\n",
      "Cluster 4:\n",
      "  File data_6169.csv uploaded successfully by user User953.\n",
      "  File data_3847.csv uploaded successfully by user User175.\n",
      "  File data_7366.csv uploaded successfully by user User282.\n",
      "  File data_1206.csv uploaded successfully by user User359.\n",
      "  File data_1503.csv uploaded successfully by user User151.\n",
      "Cluster 17:\n",
      "  Denied access attempt on restricted account Account2682\n",
      "  Unauthorized login attempt on protected account Account5030\n",
      "  Account Account9437 blocked due to failed login\n",
      "  Account Account7999 access denied due to login failure\n",
      "  Invalid login attempt made on secured account Account7864\n",
      "Cluster 6:\n",
      "  Critical system unit error: unit ID Component55\n",
      "  System component malfunction: component ID Component79\n",
      "  Critical system element is down: element ID Component96\n",
      "  Essential system part malfunction: part ID Component6\n",
      "  Failure occurred in critical system component: component ID Component92\n",
      "Cluster 32:\n",
      "  Disk cleanup completed successfully.\n",
      "  Disk cleanup completed successfully.\n",
      "  Disk cleanup completed successfully.\n",
      "  Disk cleanup completed successfully.\n",
      "  Disk cleanup completed successfully.\n",
      "Cluster 16:\n",
      "  System reboot initiated by user User243.\n",
      "  System reboot initiated by user User471.\n",
      "  System reboot initiated by user User216.\n",
      "  System reboot initiated by user User639.\n",
      "  System reboot initiated by user User819.\n",
      "Cluster 20:\n",
      "  User 7662 tried to bypass API security measures\n",
      "  User 2367 failed to provide valid API access credentials\n",
      "  User 3569 made an unauthorized API request\n",
      "  Unauthorized user 2968 tried to access restricted API\n",
      "  User 2186 attempted to access API without proper authorization\n",
      "Cluster 9:\n",
      "  Account with ID 5351 created by User634.\n",
      "  Account with ID 7813 created by User373.\n",
      "  Account with ID 9827 created by User965.\n",
      "  Account with ID 2520 created by User546.\n",
      "  Account with ID 2300 created by User964.\n",
      "Cluster 1:\n",
      "  Email service experiencing issues with sending\n",
      "  Email server encountered a sending fault\n",
      "  Mail service encountered a delivery glitch\n",
      "  Service disruption caused by email sending error\n",
      "  Email system had a problem sending emails\n",
      "Cluster 10:\n",
      "  nova.compute.resource_tracker [req-addc1839-2ed5-4778-b57e-5854eb7b8b09 - - - - -] Final resource view: name=cp-1.slowvm1.tcloud-pg0.utah.cloudlab.us phys_ram=64172MB used_ram=512MB phys_disk=15GB used_disk=0GB total_vcpus=16 used_vcpus=0 pci_stats=[]\n",
      "  nova.compute.resource_tracker [req-addc1839-2ed5-4778-b57e-5854eb7b8b09 - - - - -] Final resource view: name=cp-1.slowvm1.tcloud-pg0.utah.cloudlab.us phys_ram=64172MB used_ram=2560MB phys_disk=15GB used_disk=20GB total_vcpus=16 used_vcpus=1 pci_stats=[]\n",
      "  nova.compute.resource_tracker [req-addc1839-2ed5-4778-b57e-5854eb7b8b09 - - - - -] Total usable vcpus: 16, total allocated vcpus: 0\n",
      "  nova.compute.resource_tracker [req-addc1839-2ed5-4778-b57e-5854eb7b8b09 - - - - -] Final resource view: name=cp-1.slowvm1.tcloud-pg0.utah.cloudlab.us phys_ram=64172MB used_ram=2560MB phys_disk=15GB used_disk=20GB total_vcpus=16 used_vcpus=1 pci_stats=[]\n",
      "  nova.compute.resource_tracker [req-addc1839-2ed5-4778-b57e-5854eb7b8b09 - - - - -] Final resource view: name=cp-1.slowvm1.tcloud-pg0.utah.cloudlab.us phys_ram=64172MB used_ram=2560MB phys_disk=15GB used_disk=20GB total_vcpus=16 used_vcpus=1 pci_stats=[]\n",
      "Cluster 34:\n",
      "  Abnormal behavior found on server 10, possible security threat\n",
      "  Security alert: suspicious activity on server 1\n",
      "  Anomalous activity identified on server 23, security review recommended\n",
      "  Server 27 experienced potential security incident, review required\n",
      "  Server 36 experienced potential security incident, review required\n",
      "Cluster 53:\n",
      "  Module X experienced an invalid data format issue\n",
      "  Input format mismatch occurred in module X\n",
      "  Module X reported an error in input format validation\n",
      "  Module X failed to process input due to formatting error\n",
      "  Input data format in module X was invalid or corrupted\n",
      "Cluster 14:\n",
      "  Detection of multiple disk faults in RAID setup\n",
      "  RAID array suffered multiple hard drive failures\n",
      "  RAID array experienced multiple disk crashes\n",
      "  Multiple hard drive issues in RAID configuration found\n",
      "  Identification of multiple faulty disks in RAID array\n",
      "Cluster 52:\n",
      "  Service health check was not successful because of SSL certificate validation failures.\n",
      "  Invalid SSL certificate resulted in a failed service health check.\n",
      "  Service health check failure was due to an invalid or improperly configured SSL certificate.\n",
      "  An issue with the SSL certificate caused the service health check to fail.\n",
      "  Service health check failure was caused by an expired SSL certificate.\n",
      "Cluster 18:\n",
      "  Boot process terminated unexpectedly due to kernel issue\n",
      "  System encountered kernel panic during initialization phase\n",
      "  Boot process was stopped by kernel malfunction\n",
      "  System encountered kernel failure during bootup sequence\n",
      "  Boot sequence failed due to kernel panic\n",
      "Cluster 42:\n",
      "  User 5127 has escalated admin privileges without authorization\n",
      "  User 9745 has escalated to admin level\n",
      "  User 8483 escalated privileges to admin level\n",
      "  User 1987 has escalated to admin level\n",
      "  User 8395 escalated privileges to admin level\n",
      "Cluster 25:\n",
      "  System configuration is no longer valid\n",
      "  Configuration is corrupted throughout the system\n",
      "  Cross-system configuration failure occurred\n",
      "  System configuration is experiencing errors\n",
      "  Configuration malfunction is system-wide\n",
      "Cluster 59:\n",
      "  Potential security threat: Admin privilege escalation for user 5130\n",
      "  Admin privilege escalation alert for user 2893\n",
      "  Admin privilege escalation alert for user 8532\n",
      "  Potential security threat: Admin privilege escalation for user 1554\n",
      "  Warning: Potential admin privilege escalation for user 5720\n",
      "Cluster 26:\n",
      "  Privilege elevation detected for user 5038\n",
      "  Elevation of admin privileges detected for user 6137\n",
      "  Elevation of admin privileges detected for user 4907\n",
      "  User 6069 has been granted elevated admin privileges\n",
      "  Admin privilege elevation warning for user 7574\n"
     ]
    }
   ],
   "execution_count": 28
  },
  {
   "metadata": {},
   "cell_type": "markdown",
   "source": "## Classifivcation Stage 1: Regex",
   "id": "a214e1b3a4119a5d"
  },
  {
   "metadata": {
    "ExecuteTime": {
     "end_time": "2025-02-16T10:22:35.647806Z",
     "start_time": "2025-02-16T10:22:35.643613Z"
    }
   },
   "cell_type": "code",
   "source": [
    "import re\n",
    "def classify_with_regex(log_message):\n",
    "    regex_patterns = {\n",
    "        r\"User User\\d+ logged (in|out).\": \"User Action\",\n",
    "        r\"Backup (started|ended) at .*\": \"System Notification\",\n",
    "        r\"Backup completed successfully.\": \"System Notification\",\n",
    "        r\"System updated to version .*\": \"System Notification\",\n",
    "        r\"File .* uploaded successfully by user .*\": \"System Notification\",\n",
    "        r\"Disk cleanup completed successfully.\": \"System Notification\",\n",
    "        r\"System reboot initiated by user .*\": \"System Notification\",\n",
    "        r\"Account with ID .* created by .*\": \"User Action\"\n",
    "    }\n",
    "\n",
    "    for pattern, label in regex_patterns.items():\n",
    "        if re.search(pattern, log_message, re.IGNORECASE):\n",
    "            return label\n",
    "    return None"
   ],
   "id": "6b7641c393876bad",
   "outputs": [],
   "execution_count": 44
  },
  {
   "metadata": {
    "ExecuteTime": {
     "end_time": "2025-02-16T10:23:03.267661Z",
     "start_time": "2025-02-16T10:23:03.264405Z"
    }
   },
   "cell_type": "code",
   "source": "print(classify_with_regex(\"User User193 logged in.\"))",
   "id": "e0eab81c3e6e8d5",
   "outputs": [
    {
     "name": "stdout",
     "output_type": "stream",
     "text": [
      "User Action\n"
     ]
    }
   ],
   "execution_count": 48
  },
  {
   "metadata": {
    "ExecuteTime": {
     "end_time": "2025-02-16T10:23:01.970181Z",
     "start_time": "2025-02-16T10:23:01.966181Z"
    }
   },
   "cell_type": "code",
   "source": "print(classify_with_regex(\"User User923 logged IN.\"))",
   "id": "d1ba50b9b749d87c",
   "outputs": [
    {
     "name": "stdout",
     "output_type": "stream",
     "text": [
      "User Action\n"
     ]
    }
   ],
   "execution_count": 47
  },
  {
   "metadata": {
    "ExecuteTime": {
     "end_time": "2025-02-16T10:23:22.982595Z",
     "start_time": "2025-02-16T10:23:22.977595Z"
    }
   },
   "cell_type": "code",
   "source": "classify_with_regex(\"System reboot initiated by user User11299.\")",
   "id": "2ef73715a5f08b91",
   "outputs": [
    {
     "data": {
      "text/plain": [
       "'System Notification'"
      ]
     },
     "execution_count": 49,
     "metadata": {},
     "output_type": "execute_result"
    }
   ],
   "execution_count": 49
  },
  {
   "metadata": {
    "ExecuteTime": {
     "end_time": "2025-02-16T10:23:51.278897Z",
     "start_time": "2025-02-16T10:23:51.275835Z"
    }
   },
   "cell_type": "code",
   "source": "classify_with_regex(\"Testing log\")",
   "id": "894d8cbebad007bd",
   "outputs": [],
   "execution_count": 50
  },
  {
   "metadata": {},
   "cell_type": "markdown",
   "source": "### Apply regex classification",
   "id": "58d45369c3641679"
  },
  {
   "metadata": {
    "ExecuteTime": {
     "end_time": "2025-02-16T10:25:02.218989Z",
     "start_time": "2025-02-16T10:25:02.160736Z"
    }
   },
   "cell_type": "code",
   "source": "df['regex_label'] = df['log_message'].apply(lambda x: classify_with_regex(x))",
   "id": "925d1dd4fcc086ea",
   "outputs": [],
   "execution_count": 51
  },
  {
   "metadata": {
    "ExecuteTime": {
     "end_time": "2025-02-16T10:25:25.280027Z",
     "start_time": "2025-02-16T10:25:25.267537Z"
    }
   },
   "cell_type": "code",
   "source": [
    "# Showing regex labeled data\n",
    "df[df['regex_label'].notnull()]"
   ],
   "id": "a6ed1ba349957a6",
   "outputs": [
    {
     "data": {
      "text/plain": [
       "             timestamp         source  \\\n",
       "7      10-11-2025 8.44       ModernHR   \n",
       "14     01-04-2025 1.43  ThirdPartyAPI   \n",
       "15     05-01-2025 9.41      ModernCRM   \n",
       "18     2/22/2025 17:49      ModernCRM   \n",
       "27     9/24/2025 19:57  ThirdPartyAPI   \n",
       "...                ...            ...   \n",
       "2376    6/27/2025 8:47      ModernCRM   \n",
       "2381   09-05-2025 6.39  ThirdPartyAPI   \n",
       "2394  04-03-2025 13.13       ModernHR   \n",
       "2395  05-02-2025 14.29  ThirdPartyAPI   \n",
       "2403   10-01-2025 1.31      ModernCRM   \n",
       "\n",
       "                                            log_message         target_label  \\\n",
       "7     File data_6169.csv uploaded successfully by us...  System Notification   \n",
       "14    File data_3847.csv uploaded successfully by us...  System Notification   \n",
       "15                       Backup completed successfully.  System Notification   \n",
       "18             Account with ID 5351 created by User634.          User Action   \n",
       "27                             User User685 logged out.          User Action   \n",
       "...                                                 ...                  ...   \n",
       "2376                   System updated to version 2.0.5.  System Notification   \n",
       "2381               Disk cleanup completed successfully.  System Notification   \n",
       "2394               Disk cleanup completed successfully.  System Notification   \n",
       "2395               Backup ended at 2025-05-06 11:23:16.  System Notification   \n",
       "2403                     Backup completed successfully.  System Notification   \n",
       "\n",
       "      cluster          regex_label  \n",
       "7           4  System Notification  \n",
       "14          4  System Notification  \n",
       "15          8  System Notification  \n",
       "18          9          User Action  \n",
       "27         11          User Action  \n",
       "...       ...                  ...  \n",
       "2376       21  System Notification  \n",
       "2381       32  System Notification  \n",
       "2394       32  System Notification  \n",
       "2395       13  System Notification  \n",
       "2403        8  System Notification  \n",
       "\n",
       "[500 rows x 6 columns]"
      ],
      "text/html": [
       "<div>\n",
       "<style scoped>\n",
       "    .dataframe tbody tr th:only-of-type {\n",
       "        vertical-align: middle;\n",
       "    }\n",
       "\n",
       "    .dataframe tbody tr th {\n",
       "        vertical-align: top;\n",
       "    }\n",
       "\n",
       "    .dataframe thead th {\n",
       "        text-align: right;\n",
       "    }\n",
       "</style>\n",
       "<table border=\"1\" class=\"dataframe\">\n",
       "  <thead>\n",
       "    <tr style=\"text-align: right;\">\n",
       "      <th></th>\n",
       "      <th>timestamp</th>\n",
       "      <th>source</th>\n",
       "      <th>log_message</th>\n",
       "      <th>target_label</th>\n",
       "      <th>cluster</th>\n",
       "      <th>regex_label</th>\n",
       "    </tr>\n",
       "  </thead>\n",
       "  <tbody>\n",
       "    <tr>\n",
       "      <th>7</th>\n",
       "      <td>10-11-2025 8.44</td>\n",
       "      <td>ModernHR</td>\n",
       "      <td>File data_6169.csv uploaded successfully by us...</td>\n",
       "      <td>System Notification</td>\n",
       "      <td>4</td>\n",
       "      <td>System Notification</td>\n",
       "    </tr>\n",
       "    <tr>\n",
       "      <th>14</th>\n",
       "      <td>01-04-2025 1.43</td>\n",
       "      <td>ThirdPartyAPI</td>\n",
       "      <td>File data_3847.csv uploaded successfully by us...</td>\n",
       "      <td>System Notification</td>\n",
       "      <td>4</td>\n",
       "      <td>System Notification</td>\n",
       "    </tr>\n",
       "    <tr>\n",
       "      <th>15</th>\n",
       "      <td>05-01-2025 9.41</td>\n",
       "      <td>ModernCRM</td>\n",
       "      <td>Backup completed successfully.</td>\n",
       "      <td>System Notification</td>\n",
       "      <td>8</td>\n",
       "      <td>System Notification</td>\n",
       "    </tr>\n",
       "    <tr>\n",
       "      <th>18</th>\n",
       "      <td>2/22/2025 17:49</td>\n",
       "      <td>ModernCRM</td>\n",
       "      <td>Account with ID 5351 created by User634.</td>\n",
       "      <td>User Action</td>\n",
       "      <td>9</td>\n",
       "      <td>User Action</td>\n",
       "    </tr>\n",
       "    <tr>\n",
       "      <th>27</th>\n",
       "      <td>9/24/2025 19:57</td>\n",
       "      <td>ThirdPartyAPI</td>\n",
       "      <td>User User685 logged out.</td>\n",
       "      <td>User Action</td>\n",
       "      <td>11</td>\n",
       "      <td>User Action</td>\n",
       "    </tr>\n",
       "    <tr>\n",
       "      <th>...</th>\n",
       "      <td>...</td>\n",
       "      <td>...</td>\n",
       "      <td>...</td>\n",
       "      <td>...</td>\n",
       "      <td>...</td>\n",
       "      <td>...</td>\n",
       "    </tr>\n",
       "    <tr>\n",
       "      <th>2376</th>\n",
       "      <td>6/27/2025 8:47</td>\n",
       "      <td>ModernCRM</td>\n",
       "      <td>System updated to version 2.0.5.</td>\n",
       "      <td>System Notification</td>\n",
       "      <td>21</td>\n",
       "      <td>System Notification</td>\n",
       "    </tr>\n",
       "    <tr>\n",
       "      <th>2381</th>\n",
       "      <td>09-05-2025 6.39</td>\n",
       "      <td>ThirdPartyAPI</td>\n",
       "      <td>Disk cleanup completed successfully.</td>\n",
       "      <td>System Notification</td>\n",
       "      <td>32</td>\n",
       "      <td>System Notification</td>\n",
       "    </tr>\n",
       "    <tr>\n",
       "      <th>2394</th>\n",
       "      <td>04-03-2025 13.13</td>\n",
       "      <td>ModernHR</td>\n",
       "      <td>Disk cleanup completed successfully.</td>\n",
       "      <td>System Notification</td>\n",
       "      <td>32</td>\n",
       "      <td>System Notification</td>\n",
       "    </tr>\n",
       "    <tr>\n",
       "      <th>2395</th>\n",
       "      <td>05-02-2025 14.29</td>\n",
       "      <td>ThirdPartyAPI</td>\n",
       "      <td>Backup ended at 2025-05-06 11:23:16.</td>\n",
       "      <td>System Notification</td>\n",
       "      <td>13</td>\n",
       "      <td>System Notification</td>\n",
       "    </tr>\n",
       "    <tr>\n",
       "      <th>2403</th>\n",
       "      <td>10-01-2025 1.31</td>\n",
       "      <td>ModernCRM</td>\n",
       "      <td>Backup completed successfully.</td>\n",
       "      <td>System Notification</td>\n",
       "      <td>8</td>\n",
       "      <td>System Notification</td>\n",
       "    </tr>\n",
       "  </tbody>\n",
       "</table>\n",
       "<p>500 rows × 6 columns</p>\n",
       "</div>"
      ]
     },
     "execution_count": 52,
     "metadata": {},
     "output_type": "execute_result"
    }
   ],
   "execution_count": 52
  },
  {
   "metadata": {
    "ExecuteTime": {
     "end_time": "2025-02-16T10:26:00.540384Z",
     "start_time": "2025-02-16T10:26:00.535155Z"
    }
   },
   "cell_type": "code",
   "source": "df[df['regex_label'].notnull()].shape",
   "id": "3c791c891ca2fcc1",
   "outputs": [
    {
     "data": {
      "text/plain": [
       "(500, 6)"
      ]
     },
     "execution_count": 53,
     "metadata": {},
     "output_type": "execute_result"
    }
   ],
   "execution_count": 53
  },
  {
   "metadata": {},
   "cell_type": "markdown",
   "source": "## Classification Stage 2: Classification Using Embeddings (Logistic Regression)",
   "id": "7ce0a9ebaf914635"
  },
  {
   "metadata": {
    "ExecuteTime": {
     "end_time": "2025-02-16T10:27:28.387005Z",
     "start_time": "2025-02-16T10:27:28.379497Z"
    }
   },
   "cell_type": "code",
   "source": [
    "# Non regex data\n",
    "df_non_regex = df[df['regex_label'].isnull()].copy()\n",
    "df_non_regex.shape"
   ],
   "id": "b04d1bd71dc2a336",
   "outputs": [
    {
     "data": {
      "text/plain": [
       "(1910, 6)"
      ]
     },
     "execution_count": 54,
     "metadata": {},
     "output_type": "execute_result"
    }
   ],
   "execution_count": 54
  },
  {
   "metadata": {
    "ExecuteTime": {
     "end_time": "2025-02-16T10:28:37.772406Z",
     "start_time": "2025-02-16T10:28:37.765124Z"
    }
   },
   "cell_type": "code",
   "source": [
    "# LegacyCRM data\n",
    "df_legacy = df_non_regex[df_non_regex.source==\"LegacyCRM\"]\n",
    "df_legacy"
   ],
   "id": "e6cb9c5f8babec10",
   "outputs": [
    {
     "data": {
      "text/plain": [
       "             timestamp     source  \\\n",
       "60    06-10-2025 16.55  LegacyCRM   \n",
       "255   03-05-2025 16.55  LegacyCRM   \n",
       "377   24-06-2025 12.16  LegacyCRM   \n",
       "1325   17-04-2025 7.33  LegacyCRM   \n",
       "1734   30-04-2025 7.47  LegacyCRM   \n",
       "1826  23-01-2025 10.33  LegacyCRM   \n",
       "2217   12-05-2025 9.46  LegacyCRM   \n",
       "\n",
       "                                            log_message         target_label  \\\n",
       "60    Lead conversion failed for prospect ID 7842 du...       Workflow Error   \n",
       "255   API endpoint 'getCustomerDetails' is deprecate...  Deprecation Warning   \n",
       "377   Customer follow-up process for lead ID 5621 fa...       Workflow Error   \n",
       "1325  Escalation rule execution failed for ticket ID...       Workflow Error   \n",
       "1734  The 'ExportToCSV' feature is outdated. Please ...  Deprecation Warning   \n",
       "1826  Support for legacy authentication methods will...  Deprecation Warning   \n",
       "2217  Task assignment for TeamID 3425 could not comp...       Workflow Error   \n",
       "\n",
       "      cluster regex_label  \n",
       "60         24        None  \n",
       "255        48        None  \n",
       "377        62        None  \n",
       "1325      105        None  \n",
       "1734      118        None  \n",
       "1826      122        None  \n",
       "2217      133        None  "
      ],
      "text/html": [
       "<div>\n",
       "<style scoped>\n",
       "    .dataframe tbody tr th:only-of-type {\n",
       "        vertical-align: middle;\n",
       "    }\n",
       "\n",
       "    .dataframe tbody tr th {\n",
       "        vertical-align: top;\n",
       "    }\n",
       "\n",
       "    .dataframe thead th {\n",
       "        text-align: right;\n",
       "    }\n",
       "</style>\n",
       "<table border=\"1\" class=\"dataframe\">\n",
       "  <thead>\n",
       "    <tr style=\"text-align: right;\">\n",
       "      <th></th>\n",
       "      <th>timestamp</th>\n",
       "      <th>source</th>\n",
       "      <th>log_message</th>\n",
       "      <th>target_label</th>\n",
       "      <th>cluster</th>\n",
       "      <th>regex_label</th>\n",
       "    </tr>\n",
       "  </thead>\n",
       "  <tbody>\n",
       "    <tr>\n",
       "      <th>60</th>\n",
       "      <td>06-10-2025 16.55</td>\n",
       "      <td>LegacyCRM</td>\n",
       "      <td>Lead conversion failed for prospect ID 7842 du...</td>\n",
       "      <td>Workflow Error</td>\n",
       "      <td>24</td>\n",
       "      <td>None</td>\n",
       "    </tr>\n",
       "    <tr>\n",
       "      <th>255</th>\n",
       "      <td>03-05-2025 16.55</td>\n",
       "      <td>LegacyCRM</td>\n",
       "      <td>API endpoint 'getCustomerDetails' is deprecate...</td>\n",
       "      <td>Deprecation Warning</td>\n",
       "      <td>48</td>\n",
       "      <td>None</td>\n",
       "    </tr>\n",
       "    <tr>\n",
       "      <th>377</th>\n",
       "      <td>24-06-2025 12.16</td>\n",
       "      <td>LegacyCRM</td>\n",
       "      <td>Customer follow-up process for lead ID 5621 fa...</td>\n",
       "      <td>Workflow Error</td>\n",
       "      <td>62</td>\n",
       "      <td>None</td>\n",
       "    </tr>\n",
       "    <tr>\n",
       "      <th>1325</th>\n",
       "      <td>17-04-2025 7.33</td>\n",
       "      <td>LegacyCRM</td>\n",
       "      <td>Escalation rule execution failed for ticket ID...</td>\n",
       "      <td>Workflow Error</td>\n",
       "      <td>105</td>\n",
       "      <td>None</td>\n",
       "    </tr>\n",
       "    <tr>\n",
       "      <th>1734</th>\n",
       "      <td>30-04-2025 7.47</td>\n",
       "      <td>LegacyCRM</td>\n",
       "      <td>The 'ExportToCSV' feature is outdated. Please ...</td>\n",
       "      <td>Deprecation Warning</td>\n",
       "      <td>118</td>\n",
       "      <td>None</td>\n",
       "    </tr>\n",
       "    <tr>\n",
       "      <th>1826</th>\n",
       "      <td>23-01-2025 10.33</td>\n",
       "      <td>LegacyCRM</td>\n",
       "      <td>Support for legacy authentication methods will...</td>\n",
       "      <td>Deprecation Warning</td>\n",
       "      <td>122</td>\n",
       "      <td>None</td>\n",
       "    </tr>\n",
       "    <tr>\n",
       "      <th>2217</th>\n",
       "      <td>12-05-2025 9.46</td>\n",
       "      <td>LegacyCRM</td>\n",
       "      <td>Task assignment for TeamID 3425 could not comp...</td>\n",
       "      <td>Workflow Error</td>\n",
       "      <td>133</td>\n",
       "      <td>None</td>\n",
       "    </tr>\n",
       "  </tbody>\n",
       "</table>\n",
       "</div>"
      ]
     },
     "execution_count": 55,
     "metadata": {},
     "output_type": "execute_result"
    }
   ],
   "execution_count": 55
  },
  {
   "metadata": {
    "ExecuteTime": {
     "end_time": "2025-02-16T10:28:58.471176Z",
     "start_time": "2025-02-16T10:28:58.463351Z"
    }
   },
   "cell_type": "code",
   "source": [
    "# Non Legacy data\n",
    "df_non_legacy = df_non_regex[df_non_regex.source!=\"LegacyCRM\"]\n",
    "df_non_legacy"
   ],
   "id": "36392ca89331eca4",
   "outputs": [
    {
     "data": {
      "text/plain": [
       "             timestamp           source  \\\n",
       "0      27-06-2025 7.20        ModernCRM   \n",
       "1      1/14/2025 23:07        ModernCRM   \n",
       "2       1/17/2025 1:29  AnalyticsEngine   \n",
       "3      12-07-2025 0.24         ModernHR   \n",
       "4     02-06-2025 18.25    BillingSystem   \n",
       "...                ...              ...   \n",
       "2405   13-08-2025 7.29         ModernHR   \n",
       "2406   01-11-2025 5.32         ModernHR   \n",
       "2407   03-08-2025 3.07    ThirdPartyAPI   \n",
       "2408  11-11-2025 11.52    BillingSystem   \n",
       "2409  12/25/2025 13:21  AnalyticsEngine   \n",
       "\n",
       "                                            log_message    target_label  \\\n",
       "0     nova.osapi_compute.wsgi.server [req-b9718cd8-f...     HTTP Status   \n",
       "1        Email service experiencing issues with sending  Critical Error   \n",
       "2             Unauthorized access to data was attempted  Security Alert   \n",
       "3     nova.osapi_compute.wsgi.server [req-4895c258-b...     HTTP Status   \n",
       "4     nova.osapi_compute.wsgi.server [req-ee8bc8ba-9...     HTTP Status   \n",
       "...                                                 ...             ...   \n",
       "2405  nova.osapi_compute.wsgi.server [req-96c3ec98-2...     HTTP Status   \n",
       "2406  User 3844 account experienced multiple failed ...  Security Alert   \n",
       "2407  nova.metadata.wsgi.server [req-b6d4a270-accb-4...     HTTP Status   \n",
       "2408      Email service affected by failed transmission  Critical Error   \n",
       "2409  Repeated failed login attempts occurred for us...  Security Alert   \n",
       "\n",
       "      cluster regex_label  \n",
       "0           0        None  \n",
       "1           1        None  \n",
       "2           2        None  \n",
       "3           0        None  \n",
       "4           0        None  \n",
       "...       ...         ...  \n",
       "2405        0        None  \n",
       "2406        7        None  \n",
       "2407        0        None  \n",
       "2408        1        None  \n",
       "2409        7        None  \n",
       "\n",
       "[1903 rows x 6 columns]"
      ],
      "text/html": [
       "<div>\n",
       "<style scoped>\n",
       "    .dataframe tbody tr th:only-of-type {\n",
       "        vertical-align: middle;\n",
       "    }\n",
       "\n",
       "    .dataframe tbody tr th {\n",
       "        vertical-align: top;\n",
       "    }\n",
       "\n",
       "    .dataframe thead th {\n",
       "        text-align: right;\n",
       "    }\n",
       "</style>\n",
       "<table border=\"1\" class=\"dataframe\">\n",
       "  <thead>\n",
       "    <tr style=\"text-align: right;\">\n",
       "      <th></th>\n",
       "      <th>timestamp</th>\n",
       "      <th>source</th>\n",
       "      <th>log_message</th>\n",
       "      <th>target_label</th>\n",
       "      <th>cluster</th>\n",
       "      <th>regex_label</th>\n",
       "    </tr>\n",
       "  </thead>\n",
       "  <tbody>\n",
       "    <tr>\n",
       "      <th>0</th>\n",
       "      <td>27-06-2025 7.20</td>\n",
       "      <td>ModernCRM</td>\n",
       "      <td>nova.osapi_compute.wsgi.server [req-b9718cd8-f...</td>\n",
       "      <td>HTTP Status</td>\n",
       "      <td>0</td>\n",
       "      <td>None</td>\n",
       "    </tr>\n",
       "    <tr>\n",
       "      <th>1</th>\n",
       "      <td>1/14/2025 23:07</td>\n",
       "      <td>ModernCRM</td>\n",
       "      <td>Email service experiencing issues with sending</td>\n",
       "      <td>Critical Error</td>\n",
       "      <td>1</td>\n",
       "      <td>None</td>\n",
       "    </tr>\n",
       "    <tr>\n",
       "      <th>2</th>\n",
       "      <td>1/17/2025 1:29</td>\n",
       "      <td>AnalyticsEngine</td>\n",
       "      <td>Unauthorized access to data was attempted</td>\n",
       "      <td>Security Alert</td>\n",
       "      <td>2</td>\n",
       "      <td>None</td>\n",
       "    </tr>\n",
       "    <tr>\n",
       "      <th>3</th>\n",
       "      <td>12-07-2025 0.24</td>\n",
       "      <td>ModernHR</td>\n",
       "      <td>nova.osapi_compute.wsgi.server [req-4895c258-b...</td>\n",
       "      <td>HTTP Status</td>\n",
       "      <td>0</td>\n",
       "      <td>None</td>\n",
       "    </tr>\n",
       "    <tr>\n",
       "      <th>4</th>\n",
       "      <td>02-06-2025 18.25</td>\n",
       "      <td>BillingSystem</td>\n",
       "      <td>nova.osapi_compute.wsgi.server [req-ee8bc8ba-9...</td>\n",
       "      <td>HTTP Status</td>\n",
       "      <td>0</td>\n",
       "      <td>None</td>\n",
       "    </tr>\n",
       "    <tr>\n",
       "      <th>...</th>\n",
       "      <td>...</td>\n",
       "      <td>...</td>\n",
       "      <td>...</td>\n",
       "      <td>...</td>\n",
       "      <td>...</td>\n",
       "      <td>...</td>\n",
       "    </tr>\n",
       "    <tr>\n",
       "      <th>2405</th>\n",
       "      <td>13-08-2025 7.29</td>\n",
       "      <td>ModernHR</td>\n",
       "      <td>nova.osapi_compute.wsgi.server [req-96c3ec98-2...</td>\n",
       "      <td>HTTP Status</td>\n",
       "      <td>0</td>\n",
       "      <td>None</td>\n",
       "    </tr>\n",
       "    <tr>\n",
       "      <th>2406</th>\n",
       "      <td>01-11-2025 5.32</td>\n",
       "      <td>ModernHR</td>\n",
       "      <td>User 3844 account experienced multiple failed ...</td>\n",
       "      <td>Security Alert</td>\n",
       "      <td>7</td>\n",
       "      <td>None</td>\n",
       "    </tr>\n",
       "    <tr>\n",
       "      <th>2407</th>\n",
       "      <td>03-08-2025 3.07</td>\n",
       "      <td>ThirdPartyAPI</td>\n",
       "      <td>nova.metadata.wsgi.server [req-b6d4a270-accb-4...</td>\n",
       "      <td>HTTP Status</td>\n",
       "      <td>0</td>\n",
       "      <td>None</td>\n",
       "    </tr>\n",
       "    <tr>\n",
       "      <th>2408</th>\n",
       "      <td>11-11-2025 11.52</td>\n",
       "      <td>BillingSystem</td>\n",
       "      <td>Email service affected by failed transmission</td>\n",
       "      <td>Critical Error</td>\n",
       "      <td>1</td>\n",
       "      <td>None</td>\n",
       "    </tr>\n",
       "    <tr>\n",
       "      <th>2409</th>\n",
       "      <td>12/25/2025 13:21</td>\n",
       "      <td>AnalyticsEngine</td>\n",
       "      <td>Repeated failed login attempts occurred for us...</td>\n",
       "      <td>Security Alert</td>\n",
       "      <td>7</td>\n",
       "      <td>None</td>\n",
       "    </tr>\n",
       "  </tbody>\n",
       "</table>\n",
       "<p>1903 rows × 6 columns</p>\n",
       "</div>"
      ]
     },
     "execution_count": 56,
     "metadata": {},
     "output_type": "execute_result"
    }
   ],
   "execution_count": 56
  },
  {
   "metadata": {
    "ExecuteTime": {
     "end_time": "2025-02-16T10:29:42.421664Z",
     "start_time": "2025-02-16T10:29:42.417569Z"
    }
   },
   "cell_type": "code",
   "source": [
    "print(f\"Records in legacy df is {df_legacy.shape[0]}.\")\n",
    "print(f\"Records in non legacy df is {df_non_legacy.shape[0]}.\")"
   ],
   "id": "2200084bcfd6dd82",
   "outputs": [
    {
     "name": "stdout",
     "output_type": "stream",
     "text": [
      "Records in legacy df is 7.\n",
      "Records in non legacy df is 1903.\n"
     ]
    }
   ],
   "execution_count": 57
  },
  {
   "metadata": {
    "ExecuteTime": {
     "end_time": "2025-02-16T10:31:16.808901Z",
     "start_time": "2025-02-16T10:30:55.946519Z"
    }
   },
   "cell_type": "code",
   "source": [
    "non_legacy_embeddings = model.encode(df_non_legacy.log_message.tolist())\n",
    "non_legacy_embeddings[:5]"
   ],
   "id": "3981c7fb8379622c",
   "outputs": [
    {
     "data": {
      "text/plain": [
       "array([[-0.10293962,  0.03354594, -0.02202607, ...,  0.00457793,\n",
       "        -0.04259717,  0.00322621],\n",
       "       [ 0.00804572, -0.03573923,  0.04938739, ...,  0.01538319,\n",
       "        -0.06230947, -0.02774666],\n",
       "       [-0.00908224,  0.13003924, -0.05275568, ...,  0.02014104,\n",
       "        -0.05117098, -0.02930294],\n",
       "       [-0.09751046,  0.04911299, -0.03977424, ...,  0.02477502,\n",
       "        -0.03546079, -0.00018598],\n",
       "       [-0.10468338,  0.05926038, -0.02488499, ...,  0.02502055,\n",
       "        -0.037193  , -0.0256891 ]], shape=(5, 384), dtype=float32)"
      ]
     },
     "execution_count": 58,
     "metadata": {},
     "output_type": "execute_result"
    }
   ],
   "execution_count": 58
  },
  {
   "metadata": {
    "ExecuteTime": {
     "end_time": "2025-02-16T10:31:16.912865Z",
     "start_time": "2025-02-16T10:31:16.905156Z"
    }
   },
   "cell_type": "code",
   "source": "len(non_legacy_embeddings)",
   "id": "5b713cd9b5fc57b4",
   "outputs": [
    {
     "data": {
      "text/plain": [
       "1903"
      ]
     },
     "execution_count": 59,
     "metadata": {},
     "output_type": "execute_result"
    }
   ],
   "execution_count": 59
  },
  {
   "metadata": {
    "ExecuteTime": {
     "end_time": "2025-02-16T10:33:38.447496Z",
     "start_time": "2025-02-16T10:33:38.318880Z"
    }
   },
   "cell_type": "code",
   "source": [
    "from sklearn.linear_model import LogisticRegression\n",
    "from sklearn.model_selection import train_test_split\n",
    "from sklearn.metrics import classification_report, accuracy_score\n",
    "\n",
    "X = non_legacy_embeddings\n",
    "y = df_non_legacy['target_label']\n",
    "\n",
    "X_train, X_test, y_train, y_test = train_test_split(X, y, test_size=0.3, random_state=21)\n",
    "clf = LogisticRegression(max_iter=150)\n",
    "clf.fit(X_train, y_train)\n",
    "y_pred = clf.predict(X_test)\n",
    "print(classification_report(y_test, y_pred))\n",
    "print(accuracy_score(y_test, y_pred))"
   ],
   "id": "f03d3d7dd12ac790",
   "outputs": [
    {
     "name": "stdout",
     "output_type": "stream",
     "text": [
      "                precision    recall  f1-score   support\n",
      "\n",
      "Critical Error       0.98      1.00      0.99        44\n",
      "         Error       1.00      0.98      0.99        44\n",
      "   HTTP Status       1.00      1.00      1.00       311\n",
      "Resource Usage       1.00      1.00      1.00        52\n",
      "Security Alert       1.00      1.00      1.00       120\n",
      "\n",
      "      accuracy                           1.00       571\n",
      "     macro avg       1.00      1.00      1.00       571\n",
      "  weighted avg       1.00      1.00      1.00       571\n",
      "\n",
      "0.9982486865148862\n"
     ]
    }
   ],
   "execution_count": 60
  },
  {
   "metadata": {
    "ExecuteTime": {
     "end_time": "2025-02-16T10:34:39.292887Z",
     "start_time": "2025-02-16T10:34:39.282459Z"
    }
   },
   "cell_type": "code",
   "source": [
    "# Saving the model\n",
    "import joblib\n",
    "joblib.dump(clf, \"../models/logs_classifier.pkl\")"
   ],
   "id": "a8b6e8008f946415",
   "outputs": [
    {
     "data": {
      "text/plain": [
       "['../models/logs_classifier.pkl']"
      ]
     },
     "execution_count": 62,
     "metadata": {},
     "output_type": "execute_result"
    }
   ],
   "execution_count": 62
  },
  {
   "metadata": {
    "ExecuteTime": {
     "end_time": "2025-02-16T11:18:17.601763Z",
     "start_time": "2025-02-16T11:18:16.046847Z"
    }
   },
   "cell_type": "code",
   "source": [
    "from dotenv import load_dotenv, find_dotenv\n",
    "from langchain_groq import ChatGroq\n",
    "from langchain_core.prompts import ChatPromptTemplate"
   ],
   "id": "946b155f48402556",
   "outputs": [],
   "execution_count": 67
  },
  {
   "metadata": {
    "ExecuteTime": {
     "end_time": "2025-02-16T11:23:00.803468Z",
     "start_time": "2025-02-16T11:23:00.795003Z"
    }
   },
   "cell_type": "code",
   "source": [
    "_ = load_dotenv(find_dotenv())\n",
    "def classify_with_llm(log_msg):\n",
    "        llm = ChatGroq(model=\"deepseek-r1-distill-qwen-32b\")\n",
    "\n",
    "        prompt = ChatPromptTemplate.from_messages(\n",
    "            [\n",
    "                (\"system\", \"Classify the log message into one of these categories: \\\n",
    "                           (1) Workflow Error, (2) Deprecation Warning.\\\n",
    "                           If you can't figure out a category, use 'Unclassified'.\\\n",
    "                           Put the category inside <category> </category> tags.\"),\n",
    "                (\"human\", \"{log_message}\")\n",
    "            ]\n",
    "        )\n",
    "\n",
    "        chain = prompt | llm\n",
    "\n",
    "        output = chain.invoke(\n",
    "            {\n",
    "                \"log_message\": log_msg\n",
    "            }\n",
    "        )\n",
    "        return output.content"
   ],
   "id": "cc26e638ab7e19d2",
   "outputs": [],
   "execution_count": 77
  },
  {
   "metadata": {
    "ExecuteTime": {
     "end_time": "2025-02-16T11:25:29.261128Z",
     "start_time": "2025-02-16T11:25:26.848019Z"
    }
   },
   "cell_type": "code",
   "source": "response = classify_with_llm(\"The 'ReportGenerator' module will be retired in version 4.0. Please migrate to the 'AdvancedAnalyticsSuite' by Dec 2025\")",
   "id": "a70c3705f7c3a40c",
   "outputs": [],
   "execution_count": 79
  },
  {
   "metadata": {
    "ExecuteTime": {
     "end_time": "2025-02-16T11:28:33.798346Z",
     "start_time": "2025-02-16T11:28:33.794448Z"
    }
   },
   "cell_type": "code",
   "source": [
    "match = re.search(r'<category>(.*?)</category>', response, flags=re.DOTALL)\n",
    "print(match)"
   ],
   "id": "3f00bc27fc40c3c1",
   "outputs": [
    {
     "name": "stdout",
     "output_type": "stream",
     "text": [
      "<re.Match object; span=(1908, 1948), match='<category>Deprecation Warning</category>'>\n"
     ]
    }
   ],
   "execution_count": 83
  },
  {
   "metadata": {
    "ExecuteTime": {
     "end_time": "2025-02-16T11:28:34.920566Z",
     "start_time": "2025-02-16T11:28:34.916194Z"
    }
   },
   "cell_type": "code",
   "source": "match.group(1)",
   "id": "9062065106c895e0",
   "outputs": [
    {
     "data": {
      "text/plain": [
       "'Deprecation Warning'"
      ]
     },
     "execution_count": 84,
     "metadata": {},
     "output_type": "execute_result"
    }
   ],
   "execution_count": 84
  },
  {
   "metadata": {
    "ExecuteTime": {
     "end_time": "2025-02-16T12:04:00.852215Z",
     "start_time": "2025-02-16T12:04:00.830213Z"
    }
   },
   "cell_type": "code",
   "source": "",
   "id": "2950d7244b91356d",
   "outputs": [],
   "execution_count": 85
  },
  {
   "metadata": {},
   "cell_type": "code",
   "outputs": [],
   "execution_count": null,
   "source": "",
   "id": "5ad9b0ef42937136"
  }
 ],
 "metadata": {
  "kernelspec": {
   "display_name": "Python 3",
   "language": "python",
   "name": "python3"
  },
  "language_info": {
   "codemirror_mode": {
    "name": "ipython",
    "version": 2
   },
   "file_extension": ".py",
   "mimetype": "text/x-python",
   "name": "python",
   "nbconvert_exporter": "python",
   "pygments_lexer": "ipython2",
   "version": "2.7.6"
  }
 },
 "nbformat": 4,
 "nbformat_minor": 5
}
